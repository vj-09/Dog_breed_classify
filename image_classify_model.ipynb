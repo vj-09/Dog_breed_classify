{
 "cells": [
  {
   "cell_type": "code",
   "execution_count": 3,
   "metadata": {},
   "outputs": [],
   "source": [
    "import pandas as pd\n",
    "import numpy as np # linear algebra\n",
    "import glob\n",
    "import cv2"
   ]
  },
  {
   "cell_type": "code",
   "execution_count": 4,
   "metadata": {},
   "outputs": [],
   "source": [
    "df = pd.read_csv(\"labels.csv\")\n"
   ]
  },
  {
   "cell_type": "code",
   "execution_count": 5,
   "metadata": {},
   "outputs": [
    {
     "data": {
      "text/html": [
       "<div>\n",
       "<style scoped>\n",
       "    .dataframe tbody tr th:only-of-type {\n",
       "        vertical-align: middle;\n",
       "    }\n",
       "\n",
       "    .dataframe tbody tr th {\n",
       "        vertical-align: top;\n",
       "    }\n",
       "\n",
       "    .dataframe thead th {\n",
       "        text-align: right;\n",
       "    }\n",
       "</style>\n",
       "<table border=\"1\" class=\"dataframe\">\n",
       "  <thead>\n",
       "    <tr style=\"text-align: right;\">\n",
       "      <th></th>\n",
       "      <th>id</th>\n",
       "      <th>breed</th>\n",
       "    </tr>\n",
       "  </thead>\n",
       "  <tbody>\n",
       "    <tr>\n",
       "      <th>0</th>\n",
       "      <td>000bec180eb18c7604dcecc8fe0dba07</td>\n",
       "      <td>boston_bull</td>\n",
       "    </tr>\n",
       "    <tr>\n",
       "      <th>1</th>\n",
       "      <td>001513dfcb2ffafc82cccf4d8bbaba97</td>\n",
       "      <td>dingo</td>\n",
       "    </tr>\n",
       "    <tr>\n",
       "      <th>2</th>\n",
       "      <td>001cdf01b096e06d78e9e5112d419397</td>\n",
       "      <td>pekinese</td>\n",
       "    </tr>\n",
       "    <tr>\n",
       "      <th>3</th>\n",
       "      <td>00214f311d5d2247d5dfe4fe24b2303d</td>\n",
       "      <td>bluetick</td>\n",
       "    </tr>\n",
       "    <tr>\n",
       "      <th>4</th>\n",
       "      <td>0021f9ceb3235effd7fcde7f7538ed62</td>\n",
       "      <td>golden_retriever</td>\n",
       "    </tr>\n",
       "  </tbody>\n",
       "</table>\n",
       "</div>"
      ],
      "text/plain": [
       "                                 id             breed\n",
       "0  000bec180eb18c7604dcecc8fe0dba07       boston_bull\n",
       "1  001513dfcb2ffafc82cccf4d8bbaba97             dingo\n",
       "2  001cdf01b096e06d78e9e5112d419397          pekinese\n",
       "3  00214f311d5d2247d5dfe4fe24b2303d          bluetick\n",
       "4  0021f9ceb3235effd7fcde7f7538ed62  golden_retriever"
      ]
     },
     "execution_count": 5,
     "metadata": {},
     "output_type": "execute_result"
    }
   ],
   "source": [
    "df.head()"
   ]
  },
  {
   "cell_type": "code",
   "execution_count": 6,
   "metadata": {},
   "outputs": [
    {
     "data": {
      "text/plain": [
       "120"
      ]
     },
     "execution_count": 6,
     "metadata": {},
     "output_type": "execute_result"
    }
   ],
   "source": [
    "unique_breeds = df.breed.unique()\n",
    "len(unique_breeds)"
   ]
  },
  {
   "cell_type": "code",
   "execution_count": 7,
   "metadata": {},
   "outputs": [
    {
     "data": {
      "text/html": [
       "<div>\n",
       "<style scoped>\n",
       "    .dataframe tbody tr th:only-of-type {\n",
       "        vertical-align: middle;\n",
       "    }\n",
       "\n",
       "    .dataframe tbody tr th {\n",
       "        vertical-align: top;\n",
       "    }\n",
       "\n",
       "    .dataframe thead th {\n",
       "        text-align: right;\n",
       "    }\n",
       "</style>\n",
       "<table border=\"1\" class=\"dataframe\">\n",
       "  <thead>\n",
       "    <tr style=\"text-align: right;\">\n",
       "      <th></th>\n",
       "      <th>count</th>\n",
       "    </tr>\n",
       "    <tr>\n",
       "      <th>breed</th>\n",
       "      <th></th>\n",
       "    </tr>\n",
       "  </thead>\n",
       "  <tbody>\n",
       "    <tr>\n",
       "      <th>scottish_deerhound</th>\n",
       "      <td>126</td>\n",
       "    </tr>\n",
       "    <tr>\n",
       "      <th>maltese_dog</th>\n",
       "      <td>117</td>\n",
       "    </tr>\n",
       "    <tr>\n",
       "      <th>afghan_hound</th>\n",
       "      <td>116</td>\n",
       "    </tr>\n",
       "    <tr>\n",
       "      <th>entlebucher</th>\n",
       "      <td>115</td>\n",
       "    </tr>\n",
       "    <tr>\n",
       "      <th>bernese_mountain_dog</th>\n",
       "      <td>114</td>\n",
       "    </tr>\n",
       "  </tbody>\n",
       "</table>\n",
       "</div>"
      ],
      "text/plain": [
       "                      count\n",
       "breed                      \n",
       "scottish_deerhound      126\n",
       "maltese_dog             117\n",
       "afghan_hound            116\n",
       "entlebucher             115\n",
       "bernese_mountain_dog    114"
      ]
     },
     "execution_count": 7,
     "metadata": {},
     "output_type": "execute_result"
    }
   ],
   "source": [
    "gr_labels = df.groupby(\"breed\").count()\n",
    "gr_labels = gr_labels.rename(columns = {\"id\" : \"count\"})\n",
    "gr_labels = gr_labels.sort_values(\"count\", ascending=False)\n",
    "gr_labels.head()"
   ]
  },
  {
   "cell_type": "code",
   "execution_count": 8,
   "metadata": {},
   "outputs": [],
   "source": [
    "sample = df.loc[df['breed'].isin([\"maltese_dog\",\"afghan_hound\"])]\n",
    "\n"
   ]
  },
  {
   "cell_type": "code",
   "execution_count": 9,
   "metadata": {},
   "outputs": [],
   "source": [
    "\n",
    "files = []\n",
    "for filename in glob.glob('/home/noah/Documents/noah_data/image_classify/processed/*.jpg'):\n",
    "    files.append(filename.split(\"/\")[-2:])\n",
    "    "
   ]
  },
  {
   "cell_type": "code",
   "execution_count": 10,
   "metadata": {},
   "outputs": [],
   "source": [
    "ids = []\n",
    "imgs= []\n",
    "for file_i, file in enumerate(files):\n",
    "    filename = file[0]+'/'+file[1]\n",
    "    img = cv2.imread(filename)\n",
    "    ids.append(file[1])\n",
    "    imgs.append(img)           \n",
    "    "
   ]
  },
  {
   "cell_type": "code",
   "execution_count": 17,
   "metadata": {},
   "outputs": [
    {
     "ename": "AttributeError",
     "evalue": "'Series' object has no attribute 'strip'",
     "output_type": "error",
     "traceback": [
      "\u001b[0;31m---------------------------------------------------------------------------\u001b[0m",
      "\u001b[0;31mAttributeError\u001b[0m                            Traceback (most recent call last)",
      "\u001b[0;32m<ipython-input-17-a59efff89eae>\u001b[0m in \u001b[0;36m<module>\u001b[0;34m()\u001b[0m\n\u001b[1;32m      1\u001b[0m \u001b[0md\u001b[0m \u001b[0;34m=\u001b[0m \u001b[0;34m{\u001b[0m\u001b[0;34m\"id\"\u001b[0m\u001b[0;34m:\u001b[0m\u001b[0mids\u001b[0m\u001b[0;34m,\u001b[0m\u001b[0;34m\"img\"\u001b[0m\u001b[0;34m:\u001b[0m\u001b[0mimgs\u001b[0m\u001b[0;34m}\u001b[0m\u001b[0;34m\u001b[0m\u001b[0m\n\u001b[1;32m      2\u001b[0m \u001b[0mdf\u001b[0m\u001b[0;34m=\u001b[0m \u001b[0mpd\u001b[0m\u001b[0;34m.\u001b[0m\u001b[0mDataFrame\u001b[0m\u001b[0;34m(\u001b[0m\u001b[0md\u001b[0m\u001b[0;34m)\u001b[0m\u001b[0;34m\u001b[0m\u001b[0m\n\u001b[0;32m----> 3\u001b[0;31m \u001b[0mdf\u001b[0m\u001b[0;34m[\u001b[0m\u001b[0;34m'iid'\u001b[0m\u001b[0;34m]\u001b[0m \u001b[0;34m=\u001b[0m \u001b[0mdf\u001b[0m\u001b[0;34m[\u001b[0m\u001b[0;34m'id'\u001b[0m\u001b[0;34m]\u001b[0m\u001b[0;34m.\u001b[0m\u001b[0mstrip\u001b[0m\u001b[0;34m(\u001b[0m\u001b[0;34m\".jpg\"\u001b[0m\u001b[0;34m)\u001b[0m\u001b[0;34m\u001b[0m\u001b[0m\n\u001b[0m",
      "\u001b[0;32m/usr/local/lib/python3.5/dist-packages/pandas/core/generic.py\u001b[0m in \u001b[0;36m__getattr__\u001b[0;34m(self, name)\u001b[0m\n\u001b[1;32m   4374\u001b[0m             \u001b[0;32mif\u001b[0m \u001b[0mself\u001b[0m\u001b[0;34m.\u001b[0m\u001b[0m_info_axis\u001b[0m\u001b[0;34m.\u001b[0m\u001b[0m_can_hold_identifiers_and_holds_name\u001b[0m\u001b[0;34m(\u001b[0m\u001b[0mname\u001b[0m\u001b[0;34m)\u001b[0m\u001b[0;34m:\u001b[0m\u001b[0;34m\u001b[0m\u001b[0m\n\u001b[1;32m   4375\u001b[0m                 \u001b[0;32mreturn\u001b[0m \u001b[0mself\u001b[0m\u001b[0;34m[\u001b[0m\u001b[0mname\u001b[0m\u001b[0;34m]\u001b[0m\u001b[0;34m\u001b[0m\u001b[0m\n\u001b[0;32m-> 4376\u001b[0;31m             \u001b[0;32mreturn\u001b[0m \u001b[0mobject\u001b[0m\u001b[0;34m.\u001b[0m\u001b[0m__getattribute__\u001b[0m\u001b[0;34m(\u001b[0m\u001b[0mself\u001b[0m\u001b[0;34m,\u001b[0m \u001b[0mname\u001b[0m\u001b[0;34m)\u001b[0m\u001b[0;34m\u001b[0m\u001b[0m\n\u001b[0m\u001b[1;32m   4377\u001b[0m \u001b[0;34m\u001b[0m\u001b[0m\n\u001b[1;32m   4378\u001b[0m     \u001b[0;32mdef\u001b[0m \u001b[0m__setattr__\u001b[0m\u001b[0;34m(\u001b[0m\u001b[0mself\u001b[0m\u001b[0;34m,\u001b[0m \u001b[0mname\u001b[0m\u001b[0;34m,\u001b[0m \u001b[0mvalue\u001b[0m\u001b[0;34m)\u001b[0m\u001b[0;34m:\u001b[0m\u001b[0;34m\u001b[0m\u001b[0m\n",
      "\u001b[0;31mAttributeError\u001b[0m: 'Series' object has no attribute 'strip'"
     ]
    }
   ],
   "source": [
    "d = {\"id\":ids,\"img\":imgs}\n",
    "df= pd.DataFrame(d)\n",
    "df.assign(ln_A = lambda x: id[:-4]"
   ]
  },
  {
   "cell_type": "code",
   "execution_count": 16,
   "metadata": {},
   "outputs": [
    {
     "data": {
      "text/plain": [
       "0        c6f47117753a8f83c93ad62369c7266b.jpg\n",
       "1        a628532fb55e1d2bdf8a3958df74de35.jpg\n",
       "2        41295c36303043fc587e791b14ef2272.jpg\n",
       "3        4193da9e92c9a34fbf6554cf42e4d4b6.jpg\n",
       "4        d1e3d07958a55a2818cffbd52bc090ca.jpg\n",
       "5        d5d856e5a6b16e448dcbdd057e280e62.jpg\n",
       "6        e224c29118a187dccba77b4aaa355767.jpg\n",
       "7        385dfd666f34212de5fee77893fad23c.jpg\n",
       "8        ce31f66a9991f1f2bb45b84b5a7bd6e7.jpg\n",
       "9        d96c7a1efc7455d533bb2beb4da27896.jpg\n",
       "10       ed5920d873da0891d86d9f3a25f2c2fa.jpg\n",
       "11       995b2eea7f725108196ad726553ceb41.jpg\n",
       "12       1089c1e5058ffff12e1cca2e85205ed8.jpg\n",
       "13       eccb17b497007b28217bda18db73cce1.jpg\n",
       "14       64edd302740d9388bcf6a81c2b2ed31b.jpg\n",
       "15       c5e50854bf07fc3014c42c6a94a6af51.jpg\n",
       "16       1a02f01110c17bfde79e92cd0a7b4e64.jpg\n",
       "17       5c4a15179b8b243d0ebcdd4025d0b6d1.jpg\n",
       "18       87dfb129c12c369824f5425980158386.jpg\n",
       "19       25526168121fe509d4b323dcb6e23a7b.jpg\n",
       "20       cdffff7690054e91eab8e7237df12406.jpg\n",
       "21       f7a44b90a798d72d636b7f1003c8c3e4.jpg\n",
       "22       79e176c35318c7cdb2db59366726de77.jpg\n",
       "23       73a99d543dd8a726e63812b396a35ef5.jpg\n",
       "24       e1466949f06f43556943189409054b1c.jpg\n",
       "25       157e9d7fb607da0ff1d324933b9cbddf.jpg\n",
       "26       b2bab263aaa473785d7c88eec236acd8.jpg\n",
       "27       f7933e6c90808d5bbbade7bde7cce6dd.jpg\n",
       "28       486ae1ca61f84a930a58ece5d8c8d95e.jpg\n",
       "29       b71ba77f52b28c5171c20415a25dd6b9.jpg\n",
       "                         ...                 \n",
       "10192    ea12edc949e2572580fa237d3daea938.jpg\n",
       "10193    e81ff379277f5023333efed3beda7f64.jpg\n",
       "10194    1321d074e879267699d42fdca77b4004.jpg\n",
       "10195    f0e2319cf6cf322ea6f5849eb4102fac.jpg\n",
       "10196    95f5d4bb20b7d03dd1c3577586fa460d.jpg\n",
       "10197    0d303784e6740e5de249e1f2078a7b4b.jpg\n",
       "10198    16acaa39e4fe4edbc2becbeb85e8ccbe.jpg\n",
       "10199    df0b926ab57cef7c005b47cd2dc3f44d.jpg\n",
       "10200    00fda6ecca54efbac26e907be4b0b78b.jpg\n",
       "10201    be1a5fa3080c11a75880d3c57bc634c1.jpg\n",
       "10202    79c3812790eb28056231448106959e8d.jpg\n",
       "10203    8b27fd53a34c667b41ec5cf13be22de6.jpg\n",
       "10204    56c0fcf7ad00c78e54cd592a80fbd433.jpg\n",
       "10205    3170c7b0f1c78955cfcc94c14182c174.jpg\n",
       "10206    18b631157527e14b007e570175c921a3.jpg\n",
       "10207    66b7cfc0b7ea792fe0d95cfe4409cc04.jpg\n",
       "10208    a63484a418084bbfd3158505b0bf6f9e.jpg\n",
       "10209    4b310ee3481bd8c44bac0cb7b1ee103a.jpg\n",
       "10210    6b5bc8cfaa94a5e025210255b099034c.jpg\n",
       "10211    2125684ed729de7ba10cc02ed8f75179.jpg\n",
       "10212    abc4dec9183b686aceb15f4de7c99c7d.jpg\n",
       "10213    40fc221655af1f9ea340c3105a5a250b.jpg\n",
       "10214    d4e186bdca24be150fa257283f5fa5fb.jpg\n",
       "10215    e67eb5ac576a272a62033127bf4e6570.jpg\n",
       "10216    30298037be3bcc4f1c2798863d8ad579.jpg\n",
       "10217    ebb2555fb23a8fe20c44050380154456.jpg\n",
       "10218    4ba13e246563b8393a4adf62ac8667ae.jpg\n",
       "10219    fad30cde8ff696cba83278a55a8de87b.jpg\n",
       "10220    dabb3c1034978cadfabf60eadcf08818.jpg\n",
       "10221    d120834472b4ef2520e5860b0f3b0500.jpg\n",
       "Name: id, Length: 10222, dtype: object"
      ]
     },
     "execution_count": 16,
     "metadata": {},
     "output_type": "execute_result"
    }
   ],
   "source": [
    "df[\"id\"]"
   ]
  },
  {
   "cell_type": "code",
   "execution_count": null,
   "metadata": {},
   "outputs": [],
   "source": []
  },
  {
   "cell_type": "code",
   "execution_count": null,
   "metadata": {},
   "outputs": [],
   "source": []
  },
  {
   "cell_type": "code",
   "execution_count": null,
   "metadata": {},
   "outputs": [],
   "source": []
  },
  {
   "cell_type": "code",
   "execution_count": null,
   "metadata": {},
   "outputs": [],
   "source": []
  },
  {
   "cell_type": "code",
   "execution_count": null,
   "metadata": {},
   "outputs": [],
   "source": []
  },
  {
   "cell_type": "code",
   "execution_count": null,
   "metadata": {},
   "outputs": [],
   "source": []
  },
  {
   "cell_type": "code",
   "execution_count": null,
   "metadata": {},
   "outputs": [],
   "source": []
  }
 ],
 "metadata": {
  "kernelspec": {
   "display_name": "Python 3",
   "language": "python",
   "name": "python3"
  },
  "language_info": {
   "codemirror_mode": {
    "name": "ipython",
    "version": 3
   },
   "file_extension": ".py",
   "mimetype": "text/x-python",
   "name": "python",
   "nbconvert_exporter": "python",
   "pygments_lexer": "ipython3",
   "version": "3.5.2"
  }
 },
 "nbformat": 4,
 "nbformat_minor": 2
}
